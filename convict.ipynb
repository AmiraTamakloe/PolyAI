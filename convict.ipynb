{
 "cells": [
  {
   "cell_type": "code",
   "execution_count": 1,
   "metadata": {
    "collapsed": true,
    "pycharm": {
     "name": "#%%\n"
    }
   },
   "outputs": [],
   "source": [
    "import pandas as pd\n",
    "import numpy as np\n",
    "#from sklearn.model_selection import train_test_split\n"
   ]
  },
  {
   "cell_type": "markdown",
   "metadata": {
    "collapsed": false,
    "pycharm": {
     "name": "#%% md\n"
    }
   },
   "source": [
    "Reading the csv files in a table"
   ]
  },
  {
   "cell_type": "code",
   "execution_count": 4,
   "metadata": {},
   "outputs": [
    {
     "name": "stdout",
     "output_type": "stream",
     "text": [
      "INFO SUR LE SET\n",
      "<class 'pandas.core.frame.DataFrame'>\n",
      "RangeIndex: 7214 entries, 0 to 7213\n",
      "Data columns (total 53 columns):\n",
      " #   Column                   Non-Null Count  Dtype  \n",
      "---  ------                   --------------  -----  \n",
      " 0   ID                       7214 non-null   int64  \n",
      " 1   name                     7214 non-null   object \n",
      " 2   first                    7214 non-null   object \n",
      " 3   last                     7214 non-null   object \n",
      " 4   compas_screening_date    7214 non-null   object \n",
      " 5   sex                      7214 non-null   object \n",
      " 6   dob                      7214 non-null   object \n",
      " 7   age                      7214 non-null   int64  \n",
      " 8   age_cat                  7214 non-null   object \n",
      " 9   race                     7214 non-null   object \n",
      " 10  juv_fel_count            7214 non-null   int64  \n",
      " 11  decile_score             7214 non-null   int64  \n",
      " 12  juv_misd_count           7214 non-null   int64  \n",
      " 13  juv_other_count          7214 non-null   int64  \n",
      " 14  priors_count             7214 non-null   int64  \n",
      " 15  days_b_screening_arrest  6907 non-null   float64\n",
      " 16  c_jail_in                6907 non-null   object \n",
      " 17  c_jail_out               6907 non-null   object \n",
      " 18  c_case_number            7192 non-null   object \n",
      " 19  c_offense_date           6055 non-null   object \n",
      " 20  c_arrest_date            1137 non-null   object \n",
      " 21  c_days_from_compas       7192 non-null   float64\n",
      " 22  c_charge_degree          7214 non-null   object \n",
      " 23  c_charge_desc            7185 non-null   object \n",
      " 24  is_recid                 7214 non-null   int64  \n",
      " 25  r_case_number            3471 non-null   object \n",
      " 26  r_charge_degree          3471 non-null   object \n",
      " 27  r_days_from_arrest       2316 non-null   float64\n",
      " 28  r_offense_date           3471 non-null   object \n",
      " 29  r_charge_desc            3413 non-null   object \n",
      " 30  r_jail_in                2316 non-null   object \n",
      " 31  r_jail_out               2316 non-null   object \n",
      " 32  violent_recid            0 non-null      float64\n",
      " 33  is_violent_recid         7214 non-null   int64  \n",
      " 34  vr_case_number           819 non-null    object \n",
      " 35  vr_charge_degree         819 non-null    object \n",
      " 36  vr_offense_date          819 non-null    object \n",
      " 37  vr_charge_desc           819 non-null    object \n",
      " 38  type_of_assessment       7214 non-null   object \n",
      " 39  decile_score.1           7214 non-null   int64  \n",
      " 40  score_text               7214 non-null   object \n",
      " 41  screening_date           7214 non-null   object \n",
      " 42  v_type_of_assessment     7214 non-null   object \n",
      " 43  v_decile_score           7214 non-null   int64  \n",
      " 44  v_score_text             7214 non-null   object \n",
      " 45  v_screening_date         7214 non-null   object \n",
      " 46  in_custody               6978 non-null   object \n",
      " 47  out_custody              6978 non-null   object \n",
      " 48  priors_count.1           7214 non-null   int64  \n",
      " 49  start                    7214 non-null   int64  \n",
      " 50  end                      7214 non-null   int64  \n",
      " 51  event                    7214 non-null   int64  \n",
      " 52  label                    5771 non-null   float64\n",
      "dtypes: float64(5), int64(15), object(33)\n",
      "memory usage: 2.9+ MB\n",
      "HEAD\n",
      "     ID               name     first       last compas_screening_date     sex  \\\n",
      "0   452         steven lux    steven        lux            2013-01-05    Male   \n",
      "1   573        andre small     andre      small            2013-04-03    Male   \n",
      "2  4952        willie gray    willie       gray            2014-10-31    Male   \n",
      "3  3521  nickson marcellus   nickson  marcellus            2014-01-23    Male   \n",
      "4   369      patria barnes    patria     barnes            2013-12-09  Female   \n",
      "5  4436       david corbin     david     corbin            2013-11-12    Male   \n",
      "6  9085       joseph brock    joseph      brock            2013-03-26    Male   \n",
      "7  9776     domimick sarlo  domimick      sarlo            2013-10-22    Male   \n",
      "8  6485      tyrone dalton    tyrone     dalton            2013-03-27    Male   \n",
      "9  8683     carlos vasquez    carlos    vasquez            2013-03-01    Male   \n",
      "\n",
      "          dob  age          age_cat              race  ...  v_decile_score  \\\n",
      "0  1953-06-15   62  Greater than 45         Caucasian  ...               1   \n",
      "1  1987-10-01   28          25 - 45  African-American  ...               3   \n",
      "2  1959-01-12   57  Greater than 45  African-American  ...               2   \n",
      "3  1996-07-11   19     Less than 25  African-American  ...              10   \n",
      "4  1978-06-06   37          25 - 45             Other  ...               1   \n",
      "5  1993-02-18   23     Less than 25  African-American  ...               9   \n",
      "6  1989-10-20   26          25 - 45         Caucasian  ...               4   \n",
      "7  1952-08-10   63  Greater than 45         Caucasian  ...               1   \n",
      "8  1959-07-30   56  Greater than 45  African-American  ...               1   \n",
      "9  1985-05-16   30          25 - 45         Caucasian  ...               3   \n",
      "\n",
      "   v_score_text  v_screening_date  in_custody  out_custody  priors_count.1  \\\n",
      "0           Low        2013-01-05  2014-03-25   2014-03-26               0   \n",
      "1           Low        2013-04-03  2013-04-02   2013-04-04               1   \n",
      "2           Low        2014-10-31  2014-10-31   2014-10-31               8   \n",
      "3          High        2014-01-23  2016-01-05   2016-02-26               1   \n",
      "4           Low        2013-12-09  2013-12-08   2013-12-09               0   \n",
      "5          High        2013-11-12  2014-01-24   2014-01-26               4   \n",
      "6           Low        2013-03-26  2013-03-25   2013-03-26               2   \n",
      "7           Low        2013-10-22         NaN          NaN               1   \n",
      "8           Low        2013-03-27  2013-03-26   2013-04-02               0   \n",
      "9           Low        2013-03-01  2013-02-07   2013-02-07               2   \n",
      "\n",
      "  start   end event label  \n",
      "0     2   444     0   0.0  \n",
      "1     1  1094     0   0.0  \n",
      "2     0   265     1   1.0  \n",
      "3     0   711     1   1.0  \n",
      "4     0   844     0   0.0  \n",
      "5     0    73     1   1.0  \n",
      "6     0  1102     0   0.0  \n",
      "7     0   892     0   0.0  \n",
      "8     6  1101     0   0.0  \n",
      "9     0  1127     0   0.0  \n",
      "\n",
      "[10 rows x 53 columns]\n",
      "the name of all collumns : \n"
     ]
    },
    {
     "ename": "NameError",
     "evalue": "name 'sizeof' is not defined",
     "output_type": "error",
     "traceback": [
      "\u001b[0;31m---------------------------------------------------------------------------\u001b[0m",
      "\u001b[0;31mNameError\u001b[0m                                 Traceback (most recent call last)",
      "Cell \u001b[0;32mIn [4], line 12\u001b[0m\n\u001b[1;32m     10\u001b[0m \u001b[39mfor\u001b[39;00m col_name \u001b[39min\u001b[39;00m df\u001b[39m.\u001b[39mcolumns: \n\u001b[1;32m     11\u001b[0m     column_title\u001b[39m.\u001b[39mappend(col_name)\n\u001b[0;32m---> 12\u001b[0m sizeof(column_title)\n\u001b[1;32m     13\u001b[0m \u001b[39mprint\u001b[39m(column_title)\n",
      "\u001b[0;31mNameError\u001b[0m: name 'sizeof' is not defined"
     ]
    }
   ],
   "source": [
    "df = pd.read_csv(\"participants_dataset.csv\")\n",
    "\n",
    "print(\"INFO SUR LE SET\")\n",
    "df.info()\n",
    "print(\"HEAD\")\n",
    "print(df.head(10))\n",
    "\n",
    "print(\"the name of all collumns : \")\n",
    "column_title = []\n",
    "for col_name in df.columns: \n",
    "    column_title.append(col_name)\n",
    "sizeof(column_title)\n",
    "print(column_title)"
   ]
  },
  {
   "cell_type": "markdown",
   "metadata": {},
   "source": [
    "getting important values"
   ]
  },
  {
   "cell_type": "code",
   "execution_count": 3,
   "metadata": {},
   "outputs": [
    {
     "ename": "KeyError",
     "evalue": "'Sex'",
     "output_type": "error",
     "traceback": [
      "\u001b[0;31m---------------------------------------------------------------------------\u001b[0m",
      "\u001b[0;31mKeyError\u001b[0m                                  Traceback (most recent call last)",
      "File \u001b[0;32m/Library/Frameworks/Python.framework/Versions/3.10/lib/python3.10/site-packages/pandas/core/indexes/base.py:3800\u001b[0m, in \u001b[0;36mIndex.get_loc\u001b[0;34m(self, key, method, tolerance)\u001b[0m\n\u001b[1;32m   3799\u001b[0m \u001b[39mtry\u001b[39;00m:\n\u001b[0;32m-> 3800\u001b[0m     \u001b[39mreturn\u001b[39;00m \u001b[39mself\u001b[39;49m\u001b[39m.\u001b[39;49m_engine\u001b[39m.\u001b[39;49mget_loc(casted_key)\n\u001b[1;32m   3801\u001b[0m \u001b[39mexcept\u001b[39;00m \u001b[39mKeyError\u001b[39;00m \u001b[39mas\u001b[39;00m err:\n",
      "File \u001b[0;32m/Library/Frameworks/Python.framework/Versions/3.10/lib/python3.10/site-packages/pandas/_libs/index.pyx:138\u001b[0m, in \u001b[0;36mpandas._libs.index.IndexEngine.get_loc\u001b[0;34m()\u001b[0m\n",
      "File \u001b[0;32m/Library/Frameworks/Python.framework/Versions/3.10/lib/python3.10/site-packages/pandas/_libs/index.pyx:165\u001b[0m, in \u001b[0;36mpandas._libs.index.IndexEngine.get_loc\u001b[0;34m()\u001b[0m\n",
      "File \u001b[0;32mpandas/_libs/hashtable_class_helper.pxi:5745\u001b[0m, in \u001b[0;36mpandas._libs.hashtable.PyObjectHashTable.get_item\u001b[0;34m()\u001b[0m\n",
      "File \u001b[0;32mpandas/_libs/hashtable_class_helper.pxi:5753\u001b[0m, in \u001b[0;36mpandas._libs.hashtable.PyObjectHashTable.get_item\u001b[0;34m()\u001b[0m\n",
      "\u001b[0;31mKeyError\u001b[0m: 'Sex'",
      "\nThe above exception was the direct cause of the following exception:\n",
      "\u001b[0;31mKeyError\u001b[0m                                  Traceback (most recent call last)",
      "Cell \u001b[0;32mIn [3], line 10\u001b[0m\n\u001b[1;32m      4\u001b[0m         important_features\u001b[39m.\u001b[39mappend(data[\u001b[39m'\u001b[39m\u001b[39mSex\u001b[39m\u001b[39m'\u001b[39m][i]\u001b[39m+\u001b[39m\u001b[39m'\u001b[39m\u001b[39m \u001b[39m\u001b[39m'\u001b[39m\u001b[39m+\u001b[39mdata[\u001b[39m'\u001b[39m\u001b[39mAge\u001b[39m\u001b[39m'\u001b[39m][i]\u001b[39m+\u001b[39m\u001b[39m'\u001b[39m\u001b[39m \u001b[39m\u001b[39m'\u001b[39m\u001b[39m+\u001b[39mdata[\u001b[39m'\u001b[39m\u001b[39mAge\u001b[39m\u001b[39m'\u001b[39m][i]\u001b[39m+\u001b[39m\n\u001b[1;32m      5\u001b[0m                                   \u001b[39m'\u001b[39m\u001b[39m \u001b[39m\u001b[39m'\u001b[39m\u001b[39m+\u001b[39mdata[\u001b[39m'\u001b[39m\u001b[39mJuv_fel_count\u001b[39m\u001b[39m'\u001b[39m][i]\u001b[39m+\u001b[39m\u001b[39m'\u001b[39m\u001b[39m \u001b[39m\u001b[39m'\u001b[39m\u001b[39m+\u001b[39mdata[\u001b[39m'\u001b[39m\u001b[39mjuv_misd_count\u001b[39m\u001b[39m'\u001b[39m][i]\u001b[39m+\u001b[39mdata[\u001b[39m'\u001b[39m\u001b[39mdecile_score\u001b[39m\u001b[39m'\u001b[39m][i]\u001b[39m+\u001b[39m\u001b[39m'\u001b[39m\u001b[39m \u001b[39m\u001b[39m'\u001b[39m\u001b[39m+\u001b[39mdata[\u001b[39m'\u001b[39m\u001b[39mjuv_other_count \u001b[39m\u001b[39m'\u001b[39m][i]\n\u001b[1;32m      6\u001b[0m                                   \u001b[39m+\u001b[39mdata[\u001b[39m'\u001b[39m\u001b[39mpriors_count\u001b[39m\u001b[39m'\u001b[39m][i]\u001b[39m+\u001b[39mdata[\u001b[39m'\u001b[39m\u001b[39mdays_b_screening_arrest\u001b[39m\u001b[39m'\u001b[39m][i]\u001b[39m+\u001b[39m\u001b[39m'\u001b[39m\u001b[39m \u001b[39m\u001b[39m'\u001b[39m\u001b[39m+\u001b[39mdata[\u001b[39m'\u001b[39m\u001b[39mc_jail_in \u001b[39m\u001b[39m'\u001b[39m][i]\n\u001b[1;32m      7\u001b[0m                                   \u001b[39m+\u001b[39mdata[\u001b[39m'\u001b[39m\u001b[39mc_jail_out\u001b[39m\u001b[39m'\u001b[39m][i]\u001b[39m+\u001b[39mdata[\u001b[39m'\u001b[39m\u001b[39mc_offense_date\u001b[39m\u001b[39m'\u001b[39m][i]\u001b[39m+\u001b[39m\u001b[39m'\u001b[39m\u001b[39m \u001b[39m\u001b[39m'\u001b[39m\u001b[39m+\u001b[39mdata[\u001b[39m'\u001b[39m\u001b[39mc_arrest_date \u001b[39m\u001b[39m'\u001b[39m][i]\u001b[39m+\u001b[39m \u001b[39m\"\u001b[39m\u001b[39m \u001b[39m\u001b[39m\"\u001b[39m \u001b[39m+\u001b[39m data[\u001b[39m'\u001b[39m\u001b[39mis_recid\u001b[39m\u001b[39m'\u001b[39m][i]\u001b[39m+\u001b[39m\u001b[39m'\u001b[39m\u001b[39m \u001b[39m\u001b[39m'\u001b[39m\u001b[39m+\u001b[39mdata[\u001b[39m'\u001b[39m\u001b[39mlabel \u001b[39m\u001b[39m'\u001b[39m][i])\n\u001b[1;32m      8\u001b[0m     \u001b[39mreturn\u001b[39;00m important_features\n\u001b[0;32m---> 10\u001b[0m df[\u001b[39m'\u001b[39m\u001b[39mimportant_features\u001b[39m\u001b[39m'\u001b[39m] \u001b[39m=\u001b[39m get_important_features(df)\n",
      "Cell \u001b[0;32mIn [3], line 4\u001b[0m, in \u001b[0;36mget_important_features\u001b[0;34m(data)\u001b[0m\n\u001b[1;32m      2\u001b[0m important_features \u001b[39m=\u001b[39m []\n\u001b[1;32m      3\u001b[0m \u001b[39mfor\u001b[39;00m i \u001b[39min\u001b[39;00m \u001b[39mrange\u001b[39m(\u001b[39m0\u001b[39m, data\u001b[39m.\u001b[39mshape[\u001b[39m0\u001b[39m]):\n\u001b[0;32m----> 4\u001b[0m     important_features\u001b[39m.\u001b[39mappend(data[\u001b[39m'\u001b[39;49m\u001b[39mSex\u001b[39;49m\u001b[39m'\u001b[39;49m][i]\u001b[39m+\u001b[39m\u001b[39m'\u001b[39m\u001b[39m \u001b[39m\u001b[39m'\u001b[39m\u001b[39m+\u001b[39mdata[\u001b[39m'\u001b[39m\u001b[39mAge\u001b[39m\u001b[39m'\u001b[39m][i]\u001b[39m+\u001b[39m\u001b[39m'\u001b[39m\u001b[39m \u001b[39m\u001b[39m'\u001b[39m\u001b[39m+\u001b[39mdata[\u001b[39m'\u001b[39m\u001b[39mAge\u001b[39m\u001b[39m'\u001b[39m][i]\u001b[39m+\u001b[39m\n\u001b[1;32m      5\u001b[0m                               \u001b[39m'\u001b[39m\u001b[39m \u001b[39m\u001b[39m'\u001b[39m\u001b[39m+\u001b[39mdata[\u001b[39m'\u001b[39m\u001b[39mJuv_fel_count\u001b[39m\u001b[39m'\u001b[39m][i]\u001b[39m+\u001b[39m\u001b[39m'\u001b[39m\u001b[39m \u001b[39m\u001b[39m'\u001b[39m\u001b[39m+\u001b[39mdata[\u001b[39m'\u001b[39m\u001b[39mjuv_misd_count\u001b[39m\u001b[39m'\u001b[39m][i]\u001b[39m+\u001b[39mdata[\u001b[39m'\u001b[39m\u001b[39mdecile_score\u001b[39m\u001b[39m'\u001b[39m][i]\u001b[39m+\u001b[39m\u001b[39m'\u001b[39m\u001b[39m \u001b[39m\u001b[39m'\u001b[39m\u001b[39m+\u001b[39mdata[\u001b[39m'\u001b[39m\u001b[39mjuv_other_count \u001b[39m\u001b[39m'\u001b[39m][i]\n\u001b[1;32m      6\u001b[0m                               \u001b[39m+\u001b[39mdata[\u001b[39m'\u001b[39m\u001b[39mpriors_count\u001b[39m\u001b[39m'\u001b[39m][i]\u001b[39m+\u001b[39mdata[\u001b[39m'\u001b[39m\u001b[39mdays_b_screening_arrest\u001b[39m\u001b[39m'\u001b[39m][i]\u001b[39m+\u001b[39m\u001b[39m'\u001b[39m\u001b[39m \u001b[39m\u001b[39m'\u001b[39m\u001b[39m+\u001b[39mdata[\u001b[39m'\u001b[39m\u001b[39mc_jail_in \u001b[39m\u001b[39m'\u001b[39m][i]\n\u001b[1;32m      7\u001b[0m                               \u001b[39m+\u001b[39mdata[\u001b[39m'\u001b[39m\u001b[39mc_jail_out\u001b[39m\u001b[39m'\u001b[39m][i]\u001b[39m+\u001b[39mdata[\u001b[39m'\u001b[39m\u001b[39mc_offense_date\u001b[39m\u001b[39m'\u001b[39m][i]\u001b[39m+\u001b[39m\u001b[39m'\u001b[39m\u001b[39m \u001b[39m\u001b[39m'\u001b[39m\u001b[39m+\u001b[39mdata[\u001b[39m'\u001b[39m\u001b[39mc_arrest_date \u001b[39m\u001b[39m'\u001b[39m][i]\u001b[39m+\u001b[39m \u001b[39m\"\u001b[39m\u001b[39m \u001b[39m\u001b[39m\"\u001b[39m \u001b[39m+\u001b[39m data[\u001b[39m'\u001b[39m\u001b[39mis_recid\u001b[39m\u001b[39m'\u001b[39m][i]\u001b[39m+\u001b[39m\u001b[39m'\u001b[39m\u001b[39m \u001b[39m\u001b[39m'\u001b[39m\u001b[39m+\u001b[39mdata[\u001b[39m'\u001b[39m\u001b[39mlabel \u001b[39m\u001b[39m'\u001b[39m][i])\n\u001b[1;32m      8\u001b[0m \u001b[39mreturn\u001b[39;00m important_features\n",
      "File \u001b[0;32m/Library/Frameworks/Python.framework/Versions/3.10/lib/python3.10/site-packages/pandas/core/frame.py:3805\u001b[0m, in \u001b[0;36mDataFrame.__getitem__\u001b[0;34m(self, key)\u001b[0m\n\u001b[1;32m   3803\u001b[0m \u001b[39mif\u001b[39;00m \u001b[39mself\u001b[39m\u001b[39m.\u001b[39mcolumns\u001b[39m.\u001b[39mnlevels \u001b[39m>\u001b[39m \u001b[39m1\u001b[39m:\n\u001b[1;32m   3804\u001b[0m     \u001b[39mreturn\u001b[39;00m \u001b[39mself\u001b[39m\u001b[39m.\u001b[39m_getitem_multilevel(key)\n\u001b[0;32m-> 3805\u001b[0m indexer \u001b[39m=\u001b[39m \u001b[39mself\u001b[39;49m\u001b[39m.\u001b[39;49mcolumns\u001b[39m.\u001b[39;49mget_loc(key)\n\u001b[1;32m   3806\u001b[0m \u001b[39mif\u001b[39;00m is_integer(indexer):\n\u001b[1;32m   3807\u001b[0m     indexer \u001b[39m=\u001b[39m [indexer]\n",
      "File \u001b[0;32m/Library/Frameworks/Python.framework/Versions/3.10/lib/python3.10/site-packages/pandas/core/indexes/base.py:3802\u001b[0m, in \u001b[0;36mIndex.get_loc\u001b[0;34m(self, key, method, tolerance)\u001b[0m\n\u001b[1;32m   3800\u001b[0m     \u001b[39mreturn\u001b[39;00m \u001b[39mself\u001b[39m\u001b[39m.\u001b[39m_engine\u001b[39m.\u001b[39mget_loc(casted_key)\n\u001b[1;32m   3801\u001b[0m \u001b[39mexcept\u001b[39;00m \u001b[39mKeyError\u001b[39;00m \u001b[39mas\u001b[39;00m err:\n\u001b[0;32m-> 3802\u001b[0m     \u001b[39mraise\u001b[39;00m \u001b[39mKeyError\u001b[39;00m(key) \u001b[39mfrom\u001b[39;00m \u001b[39merr\u001b[39;00m\n\u001b[1;32m   3803\u001b[0m \u001b[39mexcept\u001b[39;00m \u001b[39mTypeError\u001b[39;00m:\n\u001b[1;32m   3804\u001b[0m     \u001b[39m# If we have a listlike key, _check_indexing_error will raise\u001b[39;00m\n\u001b[1;32m   3805\u001b[0m     \u001b[39m#  InvalidIndexError. Otherwise we fall through and re-raise\u001b[39;00m\n\u001b[1;32m   3806\u001b[0m     \u001b[39m#  the TypeError.\u001b[39;00m\n\u001b[1;32m   3807\u001b[0m     \u001b[39mself\u001b[39m\u001b[39m.\u001b[39m_check_indexing_error(key)\n",
      "\u001b[0;31mKeyError\u001b[0m: 'Sex'"
     ]
    }
   ],
   "source": [
    "def get_important_features(data):\n",
    "    important_features = []\n",
    "    for i in range(0, data.shape[0]):\n",
    "        important_features.append(data['sex'][i]+' '+data['age'][i]+' '+data['Juv_fel_count'][i]+' '+data['juv_misd_count'][i]+data['decile_score'][i]+' '+data['juv_other_count '][i]\n",
    "                                  +data['priors_count'][i]+data['days_b_screening_arrest'][i]+' '+data['c_jail_in '][i]\n",
    "                                  +data['c_jail_out'][i]+data['c_offense_date'][i]+' '+data['c_arrest_date '][i]+ \" \" + data['is_recid'][i]+' '+data['label '][i])\n",
    "    return important_features\n",
    "\n",
    "df['important_features'] = get_important_features(df)"
   ]
  },
  {
   "cell_type": "markdown",
   "metadata": {},
   "source": [
    "regarder ici jacob marco raph"
   ]
  },
  {
   "cell_type": "code",
   "execution_count": null,
   "metadata": {},
   "outputs": [],
   "source": [
    "def get_important_features(data):\n",
    "    important_features = []\n",
    "    for i in range(0, data.shape[0]):\n",
    "        important_features.append(data['sex'][i]+' '+data['age'][i]+' '+data['Juv_fel_count'][i]+' '+data['juv_misd_count'][i]+data['decile_score'][i]+' '+data['juv_other_count '][i]\n",
    "                                  +data['priors_count'][i]+data['days_b_screening_arrest'][i]+' '+data['c_jail_in '][i]\n",
    "                                  +data['c_jail_out'][i]+data['c_offense_date'][i]+' '+data['c_arrest_date '][i]+ \" \" + data['is_recid'][i]+' '+data['label '][i]+ )\n",
    "    return important_features\n",
    "\n",
    "df['important_features'] = get_important_features(df)"
   ]
  }
 ],
 "metadata": {
  "kernelspec": {
   "display_name": "Python 3.10.7 64-bit",
   "language": "python",
   "name": "python3"
  },
  "language_info": {
   "codemirror_mode": {
    "name": "ipython",
    "version": 3
   },
   "file_extension": ".py",
   "mimetype": "text/x-python",
   "name": "python",
   "nbconvert_exporter": "python",
   "pygments_lexer": "ipython3",
   "version": "3.10.7"
  },
  "vscode": {
   "interpreter": {
    "hash": "aee8b7b246df8f9039afb4144a1f6fd8d2ca17a180786b69acc140d282b71a49"
   }
  }
 },
 "nbformat": 4,
 "nbformat_minor": 0
}
